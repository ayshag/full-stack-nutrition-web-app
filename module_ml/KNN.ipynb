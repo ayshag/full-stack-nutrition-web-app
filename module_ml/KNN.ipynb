{
 "cells": [
  {
   "cell_type": "code",
   "execution_count": 1,
   "metadata": {},
   "outputs": [],
   "source": [
    "import pandas as pd\n",
    "import pickle\n",
    "import matplotlib.pyplot as plt\n",
    "import numpy as np\n",
    "from sklearn import metrics\n",
    "from sklearn import preprocessing\n",
    "from sklearn.preprocessing import StandardScaler\n",
    "import seaborn as sns"
   ]
  },
  {
   "cell_type": "code",
   "execution_count": 2,
   "metadata": {},
   "outputs": [
    {
     "data": {
      "text/html": [
       "<div>\n",
       "<style scoped>\n",
       "    .dataframe tbody tr th:only-of-type {\n",
       "        vertical-align: middle;\n",
       "    }\n",
       "\n",
       "    .dataframe tbody tr th {\n",
       "        vertical-align: top;\n",
       "    }\n",
       "\n",
       "    .dataframe thead th {\n",
       "        text-align: right;\n",
       "    }\n",
       "</style>\n",
       "<table border=\"1\" class=\"dataframe\">\n",
       "  <thead>\n",
       "    <tr style=\"text-align: right;\">\n",
       "      <th></th>\n",
       "      <th>Food Name</th>\n",
       "      <th>Water (g)</th>\n",
       "      <th>Protein (g)</th>\n",
       "      <th>Fat (g)</th>\n",
       "      <th>Carbohydrate (g)</th>\n",
       "      <th>Energy (kcal) (kcal)</th>\n",
       "      <th>Starch (g)</th>\n",
       "      <th>Total sugars (g)</th>\n",
       "      <th>Glucose (g)</th>\n",
       "      <th>Cholesterol (mg)</th>\n",
       "      <th>Calcium (mg)</th>\n",
       "      <th>Iron (mg)</th>\n",
       "    </tr>\n",
       "  </thead>\n",
       "  <tbody>\n",
       "    <tr>\n",
       "      <th>0</th>\n",
       "      <td>Agar, dried, soaked and drained</td>\n",
       "      <td>84.2</td>\n",
       "      <td>0.2</td>\n",
       "      <td>0.1</td>\n",
       "      <td>Tr</td>\n",
       "      <td>2</td>\n",
       "      <td>0</td>\n",
       "      <td>Tr</td>\n",
       "      <td>0</td>\n",
       "      <td>0</td>\n",
       "      <td>110</td>\n",
       "      <td>3.5</td>\n",
       "    </tr>\n",
       "    <tr>\n",
       "      <th>1</th>\n",
       "      <td>Alfalfa sprouts, raw</td>\n",
       "      <td>93.4</td>\n",
       "      <td>4</td>\n",
       "      <td>0.7</td>\n",
       "      <td>0.4</td>\n",
       "      <td>24</td>\n",
       "      <td>Tr</td>\n",
       "      <td>0.3</td>\n",
       "      <td>0.1</td>\n",
       "      <td>0</td>\n",
       "      <td>32</td>\n",
       "      <td>1</td>\n",
       "    </tr>\n",
       "    <tr>\n",
       "      <th>2</th>\n",
       "      <td>Allspice, ground</td>\n",
       "      <td>8.5</td>\n",
       "      <td>6.1</td>\n",
       "      <td>8.7</td>\n",
       "      <td>N</td>\n",
       "      <td>N</td>\n",
       "      <td>N</td>\n",
       "      <td>N</td>\n",
       "      <td>N</td>\n",
       "      <td>0</td>\n",
       "      <td>660</td>\n",
       "      <td>7.1</td>\n",
       "    </tr>\n",
       "    <tr>\n",
       "      <th>3</th>\n",
       "      <td>Almonds, flaked and ground</td>\n",
       "      <td>4.2</td>\n",
       "      <td>21.1</td>\n",
       "      <td>55.8</td>\n",
       "      <td>6.9</td>\n",
       "      <td>612</td>\n",
       "      <td>2.7</td>\n",
       "      <td>4.2</td>\n",
       "      <td>Tr</td>\n",
       "      <td>0</td>\n",
       "      <td>240</td>\n",
       "      <td>3</td>\n",
       "    </tr>\n",
       "    <tr>\n",
       "      <th>4</th>\n",
       "      <td>Almonds, toasted</td>\n",
       "      <td>2.4</td>\n",
       "      <td>21</td>\n",
       "      <td>52.5</td>\n",
       "      <td>5.9</td>\n",
       "      <td>579</td>\n",
       "      <td>0.8</td>\n",
       "      <td>5.1</td>\n",
       "      <td>Tr</td>\n",
       "      <td>0</td>\n",
       "      <td>268</td>\n",
       "      <td>3.73</td>\n",
       "    </tr>\n",
       "  </tbody>\n",
       "</table>\n",
       "</div>"
      ],
      "text/plain": [
       "                         Food Name Water (g) Protein (g) Fat (g)  \\\n",
       "0  Agar, dried, soaked and drained      84.2         0.2     0.1   \n",
       "1             Alfalfa sprouts, raw      93.4           4     0.7   \n",
       "2                 Allspice, ground       8.5         6.1     8.7   \n",
       "3       Almonds, flaked and ground       4.2        21.1    55.8   \n",
       "4                 Almonds, toasted       2.4          21    52.5   \n",
       "\n",
       "  Carbohydrate (g) Energy (kcal) (kcal) Starch (g) Total sugars (g)  \\\n",
       "0               Tr                    2          0               Tr   \n",
       "1              0.4                   24         Tr              0.3   \n",
       "2                N                    N          N                N   \n",
       "3              6.9                  612        2.7              4.2   \n",
       "4              5.9                  579        0.8              5.1   \n",
       "\n",
       "  Glucose (g) Cholesterol (mg) Calcium (mg) Iron (mg)  \n",
       "0           0                0          110       3.5  \n",
       "1         0.1                0           32         1  \n",
       "2           N                0          660       7.1  \n",
       "3          Tr                0          240         3  \n",
       "4          Tr                0          268      3.73  "
      ]
     },
     "execution_count": 2,
     "metadata": {},
     "output_type": "execute_result"
    }
   ],
   "source": [
    "dataset = pd.read_csv('data.csv')\n",
    "dataset.head()"
   ]
  },
  {
   "cell_type": "code",
   "execution_count": 3,
   "metadata": {},
   "outputs": [
    {
     "data": {
      "text/html": [
       "<div>\n",
       "<style scoped>\n",
       "    .dataframe tbody tr th:only-of-type {\n",
       "        vertical-align: middle;\n",
       "    }\n",
       "\n",
       "    .dataframe tbody tr th {\n",
       "        vertical-align: top;\n",
       "    }\n",
       "\n",
       "    .dataframe thead th {\n",
       "        text-align: right;\n",
       "    }\n",
       "</style>\n",
       "<table border=\"1\" class=\"dataframe\">\n",
       "  <thead>\n",
       "    <tr style=\"text-align: right;\">\n",
       "      <th></th>\n",
       "      <th>Food Name</th>\n",
       "      <th>Water (g)</th>\n",
       "      <th>Protein (g)</th>\n",
       "      <th>Fat (g)</th>\n",
       "      <th>Carbohydrate (g)</th>\n",
       "      <th>Energy (kcal) (kcal)</th>\n",
       "      <th>Starch (g)</th>\n",
       "      <th>Total sugars (g)</th>\n",
       "      <th>Glucose (g)</th>\n",
       "      <th>Cholesterol (mg)</th>\n",
       "      <th>Calcium (mg)</th>\n",
       "      <th>Iron (mg)</th>\n",
       "    </tr>\n",
       "  </thead>\n",
       "  <tbody>\n",
       "    <tr>\n",
       "      <th>count</th>\n",
       "      <td>2910</td>\n",
       "      <td>2910</td>\n",
       "      <td>2910</td>\n",
       "      <td>2910</td>\n",
       "      <td>2910</td>\n",
       "      <td>2910</td>\n",
       "      <td>2910</td>\n",
       "      <td>2910</td>\n",
       "      <td>2910</td>\n",
       "      <td>2910</td>\n",
       "      <td>2910</td>\n",
       "      <td>2910</td>\n",
       "    </tr>\n",
       "    <tr>\n",
       "      <th>unique</th>\n",
       "      <td>2906</td>\n",
       "      <td>855</td>\n",
       "      <td>357</td>\n",
       "      <td>419</td>\n",
       "      <td>654</td>\n",
       "      <td>540</td>\n",
       "      <td>480</td>\n",
       "      <td>408</td>\n",
       "      <td>151</td>\n",
       "      <td>605</td>\n",
       "      <td>334</td>\n",
       "      <td>436</td>\n",
       "    </tr>\n",
       "    <tr>\n",
       "      <th>top</th>\n",
       "      <td>Red snapper, flesh only, fried in blended oil,...</td>\n",
       "      <td>Tr</td>\n",
       "      <td>0.5</td>\n",
       "      <td>0.1</td>\n",
       "      <td>0</td>\n",
       "      <td>N</td>\n",
       "      <td>0</td>\n",
       "      <td>0</td>\n",
       "      <td>0</td>\n",
       "      <td>0</td>\n",
       "      <td>7</td>\n",
       "      <td>0.4</td>\n",
       "    </tr>\n",
       "    <tr>\n",
       "      <th>freq</th>\n",
       "      <td>4</td>\n",
       "      <td>24</td>\n",
       "      <td>55</td>\n",
       "      <td>131</td>\n",
       "      <td>649</td>\n",
       "      <td>32</td>\n",
       "      <td>1079</td>\n",
       "      <td>668</td>\n",
       "      <td>867</td>\n",
       "      <td>1119</td>\n",
       "      <td>96</td>\n",
       "      <td>111</td>\n",
       "    </tr>\n",
       "  </tbody>\n",
       "</table>\n",
       "</div>"
      ],
      "text/plain": [
       "                                                Food Name Water (g)  \\\n",
       "count                                                2910      2910   \n",
       "unique                                               2906       855   \n",
       "top     Red snapper, flesh only, fried in blended oil,...        Tr   \n",
       "freq                                                    4        24   \n",
       "\n",
       "       Protein (g) Fat (g) Carbohydrate (g) Energy (kcal) (kcal) Starch (g)  \\\n",
       "count         2910    2910             2910                 2910       2910   \n",
       "unique         357     419              654                  540        480   \n",
       "top            0.5     0.1                0                    N          0   \n",
       "freq            55     131              649                   32       1079   \n",
       "\n",
       "       Total sugars (g) Glucose (g) Cholesterol (mg) Calcium (mg) Iron (mg)  \n",
       "count              2910        2910             2910         2910      2910  \n",
       "unique              408         151              605          334       436  \n",
       "top                   0           0                0            7       0.4  \n",
       "freq                668         867             1119           96       111  "
      ]
     },
     "execution_count": 3,
     "metadata": {},
     "output_type": "execute_result"
    }
   ],
   "source": [
    "dataset = dataset.fillna(0)\n",
    "dataset.describe()"
   ]
  },
  {
   "cell_type": "code",
   "execution_count": null,
   "metadata": {},
   "outputs": [],
   "source": [
    "dataset.to_csv('tt.csv')\n"
   ]
  },
  {
   "cell_type": "code",
   "execution_count": null,
   "metadata": {},
   "outputs": [],
   "source": [
    "cols = dataset.columns.drop('Food Name')"
   ]
  },
  {
   "cell_type": "code",
   "execution_count": null,
   "metadata": {},
   "outputs": [],
   "source": [
    "dataset[cols] = dataset[cols].apply(pd.to_numeric, errors='coerce', downcast='integer')"
   ]
  },
  {
   "cell_type": "code",
   "execution_count": null,
   "metadata": {},
   "outputs": [],
   "source": [
    "dataset = dataset.fillna(0)\n",
    "dataset.describe()"
   ]
  },
  {
   "cell_type": "code",
   "execution_count": null,
   "metadata": {},
   "outputs": [],
   "source": [
    "X = dataset.drop('Food Name',1)\n",
    "X.head(5)"
   ]
  },
  {
   "cell_type": "code",
   "execution_count": null,
   "metadata": {},
   "outputs": [],
   "source": [
    "sns.pairplot(X);"
   ]
  },
  {
   "cell_type": "code",
   "execution_count": null,
   "metadata": {},
   "outputs": [],
   "source": [
    "X.describe()"
   ]
  },
  {
   "cell_type": "code",
   "execution_count": null,
   "metadata": {},
   "outputs": [],
   "source": [
    "from sklearn.decomposition import PCA\n",
    "pca = PCA(n_components=5)\n",
    "pca.fit(X)\n",
    "X_pca = pca.transform(X)\n",
    "print(\"original shape:   \", X.shape)\n",
    "print(\"transformed shape:\", X_pca.shape)\n"
   ]
  },
  {
   "cell_type": "code",
   "execution_count": null,
   "metadata": {},
   "outputs": [],
   "source": [
    "#sns.pairplot(X_pca);"
   ]
  },
  {
   "cell_type": "code",
   "execution_count": null,
   "metadata": {},
   "outputs": [],
   "source": [
    "Y = dataset[\"Food Name\"]"
   ]
  },
  {
   "cell_type": "code",
   "execution_count": null,
   "metadata": {},
   "outputs": [],
   "source": [
    "#X = X/X.mean()\n",
    "#normalizer = preprocessing.Normalizer().fit(X)  \n",
    "#X = normalizer.transform(X)\n",
    "#print(X)\n",
    "\n",
    "#scaler = StandardScaler()\n",
    "#scaler.fit_transform(X)\n",
    "\n",
    "from sklearn.preprocessing import MinMaxScaler\n",
    "scaler = MinMaxScaler(feature_range=(-3,3))\n",
    "X = scaler.fit_transform(X)\n"
   ]
  },
  {
   "cell_type": "code",
   "execution_count": null,
   "metadata": {},
   "outputs": [],
   "source": [
    "from sklearn.model_selection import train_test_split\n",
    "\n",
    "X_train, X_test, Y_train, Y_test = train_test_split(X, Y, test_size=0.10, random_state=42)"
   ]
  },
  {
   "cell_type": "code",
   "execution_count": null,
   "metadata": {},
   "outputs": [],
   "source": [
    "\n",
    "data = [[10, 20, 0.1, 1.0,3.0, 0.0, 0.2, 0.0, 1.0, 50.0, 1.5]]\n",
    "#data = data /np.mean(data)\n",
    "\n"
   ]
  },
  {
   "cell_type": "code",
   "execution_count": null,
   "metadata": {},
   "outputs": [],
   "source": [
    "from sklearn.neighbors import KNeighborsClassifier\n",
    "neigh = KNeighborsClassifier(n_neighbors=500, metric='cosine')\n",
    "neigh.fit(X_train, Y_train)\n",
    "\n"
   ]
  },
  {
   "cell_type": "code",
   "execution_count": null,
   "metadata": {},
   "outputs": [],
   "source": [
    "Y_pred = neigh.predict(X_test)\n",
    "\n",
    "# compare actual response values (y_test) with predicted response values (y_pred)\n",
    "print(metrics.accuracy_score(Y_test, Y_pred))\n"
   ]
  },
  {
   "cell_type": "code",
   "execution_count": null,
   "metadata": {},
   "outputs": [],
   "source": [
    "print(data)\n",
    "print(neigh.kneighbors(data))\n",
    "\n",
    "print(Y.iloc[1362])\n",
    "print(Y.iloc[63])\n",
    "print(Y.iloc[590])\n",
    "print(Y.iloc[61])\n",
    "print(Y.iloc[273])"
   ]
  },
  {
   "cell_type": "code",
   "execution_count": null,
   "metadata": {},
   "outputs": [],
   "source": [
    "filename = 'knn.pickle'\n",
    "pickle.dump(neigh, open(filename, 'wb'))"
   ]
  },
  {
   "cell_type": "code",
   "execution_count": null,
   "metadata": {},
   "outputs": [],
   "source": [
    "#Test the saved pickle with same data\n",
    "loaded_model = pickle.load(open(filename, 'rb'))\n",
    "#print(data)\n",
    "\n",
    "tt  = loaded_model.kneighbors(data)[1][0][:10]\n",
    "print(tt)\n",
    "#print(Y.iloc[1874])\n",
    "#print(Y.iloc[262])\n",
    "#print(Y.iloc[252])\n",
    "#print(Y.iloc[220])\n",
    "\n",
    "dataset.iloc[tt]"
   ]
  },
  {
   "cell_type": "code",
   "execution_count": null,
   "metadata": {},
   "outputs": [],
   "source": []
  },
  {
   "cell_type": "code",
   "execution_count": null,
   "metadata": {},
   "outputs": [],
   "source": []
  }
 ],
 "metadata": {
  "kernelspec": {
   "display_name": "Python 3",
   "language": "python",
   "name": "python3"
  },
  "language_info": {
   "codemirror_mode": {
    "name": "ipython",
    "version": 3
   },
   "file_extension": ".py",
   "mimetype": "text/x-python",
   "name": "python",
   "nbconvert_exporter": "python",
   "pygments_lexer": "ipython3",
   "version": "3.7.5"
  }
 },
 "nbformat": 4,
 "nbformat_minor": 2
}
